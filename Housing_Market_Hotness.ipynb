{
  "nbformat": 4,
  "nbformat_minor": 0,
  "metadata": {
    "colab": {
      "provenance": [],
      "authorship_tag": "ABX9TyMT9OzJOmHmOdux9fmee6i4",
      "include_colab_link": true
    },
    "kernelspec": {
      "name": "python3",
      "display_name": "Python 3"
    },
    "language_info": {
      "name": "python"
    }
  },
  "cells": [
    {
      "cell_type": "markdown",
      "metadata": {
        "id": "view-in-github",
        "colab_type": "text"
      },
      "source": [
        "<a href=\"https://colab.research.google.com/github/20pt32/ZerDown-Hackathon/blob/main/Housing_Market_Hotness.ipynb\" target=\"_parent\"><img src=\"https://colab.research.google.com/assets/colab-badge.svg\" alt=\"Open In Colab\"/></a>"
      ]
    },
    {
      "cell_type": "code",
      "execution_count": 2,
      "metadata": {
        "id": "ZHMzhAPbkBhZ"
      },
      "outputs": [],
      "source": [
        "import pandas as pd\n",
        "\n",
        "# Load the data\n",
        "market_df = pd.read_csv(\"metric.csv\")\n",
        "market_metrics_df = pd.read_csv(\"market_metrics.csv\")\n",
        "\n",
        "\n"
      ]
    },
    {
      "cell_type": "code",
      "source": [
        "def market_score(market_id):\n",
        "    market = pd.read_csv(\"metric.csv\")\n",
        "    market_metrics = pd.read_csv(\"market_metrics.csv\")\n",
        "    \n",
        "    market_data = market_metrics[market_metrics['market_id'] == market_id]\n",
        "    \n",
        "    median_list_price_psqft = market_data['median_list_price_psqft'].median()\n",
        "    homes_sold_over_list_price_count = market_data['homes_sold_over_list_price_count'].median()\n",
        "    median_sale_price_psqft = market_data['median_sale_price_psqft'].median()\n",
        "    median_sale_to_list_ratio = market_data['median_sale_to_list_ratio'].median()\n",
        "    days_to_pending = market_data['days_to_pending'].median()\n",
        "    days_to_sell = market_data['days_to_sell'].median()\n",
        "    \n",
        "    score = (median_list_price_psqft + homes_sold_over_list_price_count + median_sale_price_psqft + median_sale_to_list_ratio + days_to_pending + days_to_sell) / 6\n",
        "    \n",
        "    return score\n",
        "\n",
        "market_id = int(input(\"Enter market id: \"))\n",
        "score = market_score(market_id)\n",
        "print(\"Score for market id \", market_id, \" is: \", score)\n"
      ],
      "metadata": {
        "id": "HwO6yoZQuKbu"
      },
      "execution_count": null,
      "outputs": []
    }
  ]
}